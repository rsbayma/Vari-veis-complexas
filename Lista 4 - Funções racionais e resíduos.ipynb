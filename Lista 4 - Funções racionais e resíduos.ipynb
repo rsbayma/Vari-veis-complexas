{
 "cells": [
  {
   "attachments": {},
   "cell_type": "markdown",
   "metadata": {},
   "source": [
    "## Funções de uma variável complexa\n",
    "## Lista 4 - Frações parciais"
   ]
  },
  {
   "attachments": {},
   "cell_type": "markdown",
   "metadata": {},
   "source": [
    "<span style=\"color:blue\"> Entre com a data e seu número de matrícula abaixo. **Não tire as aspas!\"** </span>"
   ]
  },
  {
   "cell_type": "code",
   "execution_count": 46,
   "metadata": {},
   "outputs": [],
   "source": [
    "mat = '202233940099'\n",
    "dia = '26'\n",
    "mes = '05'"
   ]
  },
  {
   "attachments": {},
   "cell_type": "markdown",
   "metadata": {},
   "source": [
    "<span style=\"color:blue\"> \n",
    "Execute o notebook inteiro para gerar as suas questões.  \n",
    "\n",
    "Quando precisar, utilize no máximo 4 casas decimais. \n",
    "\n",
    "</span>  \n"
   ]
  },
  {
   "cell_type": "code",
   "execution_count": 47,
   "metadata": {
    "jupyter": {
     "source_hidden": true
    }
   },
   "outputs": [],
   "source": [
    "# Gera as questões\n",
    "# Não mexa nesta célula! Alterá-la pode prejudicar a sua avaliação\n",
    "from IPython.display import display, Math, Markdown\n",
    "from sympy import I, sqrt, symbols, latex, Eq, fraction\n",
    "from numpy.random import RandomState, randint\n",
    "from numpy import arange\n",
    "import numpy as np\n",
    "import sympy as sp\n",
    "     \n",
    "_nn = int(mat[0:4]+mat[-2:]+dia+mes)\n",
    "_rng = RandomState(_nn)\n",
    "_M = _rng.randint(-9,10,size=(1000,))\n",
    "#_Mpos = _rng.randint(1,10,size=(500,))\n",
    "global nm\n",
    "nm= 0\n",
    "def pick():\n",
    "    global nm\n",
    "    nm +=1\n",
    "    return _M[nm]\n",
    "\n",
    "#global nn\n",
    "#nn=0\n",
    "#def pickpos():\n",
    "#    global nn\n",
    "#    nn +=1\n",
    "#    return _Mpos[nn]\n",
    "\n",
    "all_equal = lambda x: len(set(x)) <= 1\n",
    "all_diff = lambda x: len(set(x)) == len(x)\n",
    "\n",
    "def Q1():\n",
    "    \n",
    "    s = sp.symbols('s')\n",
    "    global nn, nm\n",
    "    nn=0\n",
    "    nm=0\n",
    "    q1 = '**Questão 1:** Determine a expansão em frações parciais das funções\\\n",
    "     dadas abaixo: <br>'\n",
    "\n",
    "    b1 = pick()\n",
    "    while b1==0: b1=pick()\n",
    "    b0 = pick()\n",
    "    while b0==0: b0=pick()\n",
    "    p1 = pick()\n",
    "    p2 = pick()\n",
    "    while p1==p2: p2=pick()\n",
    "    nG = (b1*s+b0)\n",
    "    dG = (s+p1)*(s+p2)\n",
    "    G = sp.latex(nG/dG)\n",
    "    q2 = '<br> **(a)**  $G(s)= \\\\displaystyle'+ G +'$'\n",
    "    Gpf = sp.apart(G)\n",
    "    s2 = '<br> *Resposta*: $G(s) = ' + latex(Gpf) + '$'\n",
    "    q2 += s2\n",
    "    \n",
    "    z1,z2,k = [pick() for n in range(3)]\n",
    "    while k==0: k=pick()\n",
    "    p = pick()\n",
    "    while p==z1 and p==z2: p=pick()\n",
    "    b2,b1,b0 = k*np.poly([z1,z2])\n",
    "    b2 = int(b2)\n",
    "    b1 = int(b1)\n",
    "    b0 = int(b0)\n",
    "    num = b2*s**2 + b1*s + b0\n",
    "    den = (s+p)**3\n",
    "    Y = sp.latex(num/den)\n",
    "    q3 = '<br> <br>**(b)**  $Y(s)= \\\\displaystyle' + Y + '$'\n",
    "\n",
    "    a,b,c1,c2 = [pick() for n in range(4)]\n",
    "    while a==0: a=pick()\n",
    "    while c2==0: c2=pick()\n",
    "    b1 = 2*c1\n",
    "    b2 = c1**2+c2**2\n",
    "    num = a*s+b\n",
    "    den = s**2+b1*s+b2\n",
    "    H = sp.latex(num/den)\n",
    "    q4 = '<br> <br>**(c)**  $H(s)= \\\\displaystyle' + H + '$'    \n",
    "    \n",
    "    b1 = pick()\n",
    "    while b1==0: b1=pick()\n",
    "    b2 = pick()\n",
    "    while b2==0: b2=pick()\n",
    "    p = pick()\n",
    "    while p==0: p=pick()\n",
    "    num = b1*s**2+b2\n",
    "    den = s**3+p*s**2\n",
    "    X = sp.latex(num/den)\n",
    "    q5 = '<br> <br>**(d)**  $X(s)= \\\\displaystyle' + X + '$'\n",
    "\n",
    "    r = pick()\n",
    "    i = pick()\n",
    "    a = 2*r\n",
    "    b = r**2+i**2\n",
    "    p = pick()\n",
    "    num = s-p\n",
    "    den = (s-p)*(s**2+a*s+b)\n",
    "    _ , res = sp.div(den,num)\n",
    "    while res==0: \n",
    "        num = pick()*s**2 + pick()*s+ pick()\n",
    "        _, res = sp.div(den, num)\n",
    "    W = sp.latex(num/den)\n",
    "    q6 = '<br> <br>**(e)**  $W(s)= \\\\displaystyle' + W + '$'\n",
    "\n",
    "    r = pick()\n",
    "    i = pick()\n",
    "    a = 2*r\n",
    "    b = r**2+i**2\n",
    "    p = pick()\n",
    "    num = s-p\n",
    "    den = (s-p)**2*(s**2+a*s+b)\n",
    "    _ , res = sp.div(den,num)\n",
    "    while res==0: \n",
    "        num = pick()*s**3 + pick()*s+ pick()\n",
    "        _, res = sp.div(den, num)\n",
    "    Q = sp.latex(num/den)\n",
    "    q7 = '<br> <br>**(f)** $Q(s)= \\\\displaystyle' + Q + '$'\n",
    "\n",
    "    q = q1+q2+q3+q4+q5+q6+q7\n",
    "    display(Markdown(q))\n"
   ]
  },
  {
   "cell_type": "code",
   "execution_count": 48,
   "metadata": {
    "jupyter": {
     "source_hidden": true
    },
    "scrolled": true
   },
   "outputs": [
    {
     "data": {
      "text/markdown": [
       "**Questão 1:** Determine a expansão em frações parciais das funções     dadas abaixo: <br><br> **(a)**  $G(s)= \\displaystyle\\frac{9 s + 4}{\\left(s - 9\\right) \\left(s + 4\\right)}$<br> <br>**(b)**  $Y(s)= \\displaystyle\\frac{- 6 s^{2} - 66 s - 180}{\\left(s - 1\\right)^{3}}$<br> <br>**(c)**  $H(s)= \\displaystyle\\frac{7 s + 7}{s^{2} + 14 s + 65}$<br> <br>**(d)**  $X(s)= \\displaystyle\\frac{2 s^{2} + 4}{s^{3} - 2 s^{2}}$<br> <br>**(e)**  $W(s)= \\displaystyle\\frac{2 s^{2} - 4 s - 5}{\\left(s + 4\\right) \\left(s^{2} + 12 s + 36\\right)}$<br> <br>**(f)** $Q(s)= \\displaystyle\\frac{- 5 s^{3} - 8 s + 5}{\\left(s + 3\\right)^{2} \\left(s^{2} - 12 s + 61\\right)}$"
      ],
      "text/plain": [
       "<IPython.core.display.Markdown object>"
      ]
     },
     "metadata": {},
     "output_type": "display_data"
    }
   ],
   "source": [
    "Q1()"
   ]
  }
 ],
 "metadata": {
  "kernelspec": {
   "display_name": "Python 3 (ipykernel)",
   "language": "python",
   "name": "python3"
  },
  "language_info": {
   "codemirror_mode": {
    "name": "ipython",
    "version": 3
   },
   "file_extension": ".py",
   "mimetype": "text/x-python",
   "name": "python",
   "nbconvert_exporter": "python",
   "pygments_lexer": "ipython3",
   "version": "3.11.1"
  }
 },
 "nbformat": 4,
 "nbformat_minor": 4
}

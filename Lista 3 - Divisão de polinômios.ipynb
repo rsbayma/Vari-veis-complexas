{
 "cells": [
  {
   "attachments": {},
   "cell_type": "markdown",
   "metadata": {},
   "source": [
    "## Lista 3 de variáveis complexas"
   ]
  },
  {
   "attachments": {},
   "cell_type": "markdown",
   "metadata": {},
   "source": [
    "<span style=\"color:blue\"> Entre com a data e seu número de matrícula abaixo. **Não tire as aspas!\"** </span>"
   ]
  },
  {
   "cell_type": "code",
   "execution_count": 14,
   "metadata": {},
   "outputs": [],
   "source": [
    "mat = '202233940007'\n",
    "dia = '17'\n",
    "mes = '06'"
   ]
  },
  {
   "attachments": {},
   "cell_type": "markdown",
   "metadata": {},
   "source": [
    "**Orientações - Leia com atenção!**\n",
    "1. Execute o notebook inteiro com os seus dados para gerar as questões. \n",
    "\n",
    "2. Resolva todas as questões, registrando os principais passos da solução\n",
    "3. Em cada questão introduza intencionalmente um erro na solução de **um e apenas um** item.\n",
    "4. Faça um manuscrito com as suas soluções. **Não esqueça de anotar no manuscrito o seu nome, sua matrícula e a data que você usou para gerar as questões.**\n",
    "5. Apresente as questões no manuscrito na **ordem correta** e deixe clara a **resposta final**. Quando necessário, use apenas 2 casas decimais. "
   ]
  },
  {
   "cell_type": "code",
   "execution_count": 15,
   "metadata": {},
   "outputs": [],
   "source": [
    "#\n",
    "# NÃO MEXA NESTA CÉLULA!!! DESCONFIGURÁ-LA PODE INVALIDAR SEU TRABALHO\n",
    "from IPython.display import display, Math\n",
    "from sympy import I, sqrt, symbols, latex, Eq, fraction\n",
    "from numpy.random import RandomState, randint, choice\n",
    "from numpy import arange\n",
    "import numpy as np\n",
    "import sympy as sp\n",
    "\n",
    "_nn = int(mat[0:4]+mat[-2:]+dia+mes)\n",
    "_rng = RandomState(_nn)\n",
    "_M = _rng.randint(-9,10,size=(500,))\n",
    "_M = _M[_M!=0]\n",
    "\n",
    "global nm\n",
    "nm= 0\n",
    "\n",
    "def pick():\n",
    "    global nm\n",
    "    nm +=1\n",
    "    return _M[nm]\n",
    "\n",
    "x,a,b,c = symbols(\"x a b c\")\n",
    "t = {1:a*x+b, \n",
    "     (2,1):a*x**2+b*x+c, (2,2):(a*x+b)**2, (2,3):x**2-a**2,\n",
    "     (3,1):(a*x+b)**3, (3,2):a*x**3+b*x+c, (3,3):x**3-a**3, (3,4):a*x**3+b*x**2+c, (3,5):x**3+a*x**2+b*x+c,\n",
    "     (4,1):a*x**4+b*x**2+c, (4,2):a*x**4+b*x**3+c*x, (4,3): x**4+a*x**2,\n",
    "     (4,4): x**4+a*x+b}\n",
    "def gen(i,A=0,B=0,C=0):\n",
    "    if A==0: A = pick()\n",
    "    if B==0: B = pick()\n",
    "    if C==0: C = pick()\n",
    "    return t[i].subs([(a,A), (b,B), (c,C)])\n",
    "\n",
    "from itertools import product\n",
    "\n",
    "def Q1():\n",
    "    i1 = [1,(2,1),(2,2)]\n",
    "    i2 = [1,(4,1),(4,3)]\n",
    "    global nm\n",
    "    nm = 0\n",
    "    U = [(gen(i)*gen(j)) for i,j in product(i1,i2) ]\n",
    "    #for u in U: display(u)\n",
    "    S1 = [s.expand().collect(x) for s in U]\n",
    "    for u,s in zip(U,S1):\n",
    "        display(sp.Eq(u,s))\n",
    "\n",
    "def Q2():\n",
    "    _L1 = [[(3,2),(2,1)],[(4,1),(2,1)]]\n",
    "    global nm\n",
    "    nm = 10\n",
    "    for l in _L1:     \n",
    "        p = gen(l[0])\n",
    "        q = gen(l[1])\n",
    "        display(Math('p(x) = ' + latex(p) + r',\\,' + 'q(x) = ' + latex(q)))\n",
    "        quoc,rest = sp.div(p,q)\n",
    "        display(Math('quo(x) = ' + latex(quoc) + r',\\,' + 'rest(x) = ' + latex(rest)))\n",
    "\n",
    "def Q3():\n",
    "    global nm\n",
    "    nm = 50\n",
    "    _L2 = [[(3,2),1],[(3,2),(2,1)],[(3,2),(2,3)],[(4,1),1],[(4,2),(3,4)]]\n",
    "    for l in _L2: \n",
    "        p = gen(l[0])\n",
    "        q = gen(l[1])\n",
    "        display(Math('p(x) = ' + latex(p) + r',\\quad ' + 'q(x) = ' + latex(q)))\n",
    "        quoc,rest = sp.div(p,q)\n",
    "        display(Math('quo(x) = ' + latex(quoc) + r',\\,' + 'rest(x) = ' + latex(rest)))\n",
    "\n",
    "\n",
    "def Q4():\n",
    "    global nm\n",
    "    nm = 100\n",
    "    L3 = [[(2,1),1,[a]], [(3,2),1,[a]], [(3,5),(2,1),[0,a,b]], [(4,1),(2,2),[a,b]]]\n",
    "    for l in L3:\n",
    "        f = (gen(l[0],*l[2]))\n",
    "        g = (gen(l[1]))\n",
    "        display(Math('f(x) = ' + latex(f) + r',\\quad g(x) = ' + latex(g)))\n",
    "        quoc,rest = sp.div(f,g)\n",
    "        c = rest.as_poly(x).coeffs()\n",
    "        sol = sp.solve(c,[a,b])\n",
    "        str = 'a = ' + f'{sol[a]}' + '=' + f'{sol[a].evalf(2)}'\n",
    "        if b in sol: str += r'; \\quad b = ' + f'{sol[b]}' + '=' + f'{sol[b].evalf(2)}'\n",
    "        display(Math(str))\n",
    "\n"
   ]
  },
  {
   "attachments": {},
   "cell_type": "markdown",
   "metadata": {},
   "source": [
    "## 1"
   ]
  },
  {
   "attachments": {},
   "cell_type": "markdown",
   "metadata": {},
   "source": [
    "<span style=\"color:blue\"> Determine o produto dos polinômios a seguir. </style>"
   ]
  },
  {
   "cell_type": "code",
   "execution_count": 16,
   "metadata": {},
   "outputs": [
    {
     "data": {
      "text/latex": [
       "$\\displaystyle \\left(- x - 5\\right) \\left(6 x - 1\\right) = - 6 x^{2} - 29 x + 5$"
      ],
      "text/plain": [
       "Eq((-x - 5)*(6*x - 1), -6*x**2 - 29*x + 5)"
      ]
     },
     "metadata": {},
     "output_type": "display_data"
    },
    {
     "data": {
      "text/latex": [
       "$\\displaystyle \\left(- 7 x - 4\\right) \\left(8 x^{4} - 8 x^{2} + 5\\right) = - 56 x^{5} - 32 x^{4} + 56 x^{3} + 32 x^{2} - 35 x - 20$"
      ],
      "text/plain": [
       "Eq((-7*x - 4)*(8*x**4 - 8*x**2 + 5), -56*x**5 - 32*x**4 + 56*x**3 + 32*x**2 - 35*x - 20)"
      ]
     },
     "metadata": {},
     "output_type": "display_data"
    },
    {
     "data": {
      "text/latex": [
       "$\\displaystyle \\left(6 - 4 x\\right) \\left(x^{4} - 2 x^{2}\\right) = - 4 x^{5} + 6 x^{4} + 8 x^{3} - 12 x^{2}$"
      ],
      "text/plain": [
       "Eq((6 - 4*x)*(x**4 - 2*x**2), -4*x**5 + 6*x**4 + 8*x**3 - 12*x**2)"
      ]
     },
     "metadata": {},
     "output_type": "display_data"
    },
    {
     "data": {
      "text/latex": [
       "$\\displaystyle \\left(2 x - 4\\right) \\left(3 x^{2} + 2 x - 6\\right) = 6 x^{3} - 8 x^{2} - 20 x + 24$"
      ],
      "text/plain": [
       "Eq((2*x - 4)*(3*x**2 + 2*x - 6), 6*x**3 - 8*x**2 - 20*x + 24)"
      ]
     },
     "metadata": {},
     "output_type": "display_data"
    },
    {
     "data": {
      "text/latex": [
       "$\\displaystyle \\left(- 7 x^{2} + 8 x + 5\\right) \\left(- 5 x^{4} - 3 x^{2} - 8\\right) = 35 x^{6} - 40 x^{5} - 4 x^{4} - 24 x^{3} + 41 x^{2} - 64 x - 40$"
      ],
      "text/plain": [
       "Eq((-7*x**2 + 8*x + 5)*(-5*x**4 - 3*x**2 - 8), 35*x**6 - 40*x**5 - 4*x**4 - 24*x**3 + 41*x**2 - 64*x - 40)"
      ]
     },
     "metadata": {},
     "output_type": "display_data"
    },
    {
     "data": {
      "text/latex": [
       "$\\displaystyle \\left(x^{4} - 3 x^{2}\\right) \\left(- 5 x^{2} - 5 x - 7\\right) = - 5 x^{6} - 5 x^{5} + 8 x^{4} + 15 x^{3} + 21 x^{2}$"
      ],
      "text/plain": [
       "Eq((x**4 - 3*x**2)*(-5*x**2 - 5*x - 7), -5*x**6 - 5*x**5 + 8*x**4 + 15*x**3 + 21*x**2)"
      ]
     },
     "metadata": {},
     "output_type": "display_data"
    },
    {
     "data": {
      "text/latex": [
       "$\\displaystyle \\left(1 - 4 x\\right)^{2} \\left(x + 3\\right) = 16 x^{3} + 40 x^{2} - 23 x + 3$"
      ],
      "text/plain": [
       "Eq((1 - 4*x)**2*(x + 3), 16*x**3 + 40*x**2 - 23*x + 3)"
      ]
     },
     "metadata": {},
     "output_type": "display_data"
    },
    {
     "data": {
      "text/latex": [
       "$\\displaystyle \\left(6 - x\\right)^{2} \\left(x^{4} + x^{2} + 2\\right) = x^{6} - 12 x^{5} + 37 x^{4} - 12 x^{3} + 38 x^{2} - 24 x + 72$"
      ],
      "text/plain": [
       "Eq((6 - x)**2*(x**4 + x**2 + 2), x**6 - 12*x**5 + 37*x**4 - 12*x**3 + 38*x**2 - 24*x + 72)"
      ]
     },
     "metadata": {},
     "output_type": "display_data"
    },
    {
     "data": {
      "text/latex": [
       "$\\displaystyle \\left(- 4 x - 7\\right)^{2} \\left(x^{4} + 9 x^{2}\\right) = 16 x^{6} + 56 x^{5} + 193 x^{4} + 504 x^{3} + 441 x^{2}$"
      ],
      "text/plain": [
       "Eq((-4*x - 7)**2*(x**4 + 9*x**2), 16*x**6 + 56*x**5 + 193*x**4 + 504*x**3 + 441*x**2)"
      ]
     },
     "metadata": {},
     "output_type": "display_data"
    }
   ],
   "source": [
    "Q1()"
   ]
  },
  {
   "attachments": {},
   "cell_type": "markdown",
   "metadata": {},
   "source": [
    "## 2"
   ]
  },
  {
   "attachments": {},
   "cell_type": "markdown",
   "metadata": {},
   "source": [
    "<span style=\"color:blue\"> Determine o resto e o quociente usando método de Descartes das divisões p/q a seguir:</span>"
   ]
  },
  {
   "cell_type": "code",
   "execution_count": 17,
   "metadata": {},
   "outputs": [
    {
     "data": {
      "text/latex": [
       "$\\displaystyle p(x) = - 8 x^{3} + 5 x - 4,\\,q(x) = 6 x^{2} - 2 x - 2$"
      ],
      "text/plain": [
       "<IPython.core.display.Math object>"
      ]
     },
     "metadata": {},
     "output_type": "display_data"
    },
    {
     "data": {
      "text/latex": [
       "$\\displaystyle quo(x) = - \\frac{4 x}{3} - \\frac{4}{9},\\,rest(x) = \\frac{13 x}{9} - \\frac{44}{9}$"
      ],
      "text/plain": [
       "<IPython.core.display.Math object>"
      ]
     },
     "metadata": {},
     "output_type": "display_data"
    },
    {
     "data": {
      "text/latex": [
       "$\\displaystyle p(x) = 5 x^{4} + 2 x^{2} + 3,\\,q(x) = 2 x^{2} - 6 x + 2$"
      ],
      "text/plain": [
       "<IPython.core.display.Math object>"
      ]
     },
     "metadata": {},
     "output_type": "display_data"
    },
    {
     "data": {
      "text/latex": [
       "$\\displaystyle quo(x) = \\frac{5 x^{2}}{2} + \\frac{15 x}{2} + 21,\\,rest(x) = 111 x - 39$"
      ],
      "text/plain": [
       "<IPython.core.display.Math object>"
      ]
     },
     "metadata": {},
     "output_type": "display_data"
    }
   ],
   "source": [
    "Q2()"
   ]
  },
  {
   "attachments": {},
   "cell_type": "markdown",
   "metadata": {},
   "source": [
    "## 3"
   ]
  },
  {
   "attachments": {},
   "cell_type": "markdown",
   "metadata": {},
   "source": [
    "\n",
    "<span style=\"color:blue\"> Determine o quociente e o resto da divisão p(x)/q(x) pelo método da chave </span>"
   ]
  },
  {
   "cell_type": "code",
   "execution_count": 18,
   "metadata": {},
   "outputs": [
    {
     "data": {
      "text/latex": [
       "$\\displaystyle p(x) = - 6 x^{3} + 9 x - 7,\\quad q(x) = 8 x - 8$"
      ],
      "text/plain": [
       "<IPython.core.display.Math object>"
      ]
     },
     "metadata": {},
     "output_type": "display_data"
    },
    {
     "data": {
      "text/latex": [
       "$\\displaystyle quo(x) = - \\frac{3 x^{2}}{4} - \\frac{3 x}{4} + \\frac{3}{8},\\,rest(x) = -4$"
      ],
      "text/plain": [
       "<IPython.core.display.Math object>"
      ]
     },
     "metadata": {},
     "output_type": "display_data"
    },
    {
     "data": {
      "text/latex": [
       "$\\displaystyle p(x) = 6 x^{3} + 2 x - 9,\\quad q(x) = 9 x^{2} + 5 x + 1$"
      ],
      "text/plain": [
       "<IPython.core.display.Math object>"
      ]
     },
     "metadata": {},
     "output_type": "display_data"
    },
    {
     "data": {
      "text/latex": [
       "$\\displaystyle quo(x) = \\frac{2 x}{3} - \\frac{10}{27},\\,rest(x) = \\frac{86 x}{27} - \\frac{233}{27}$"
      ],
      "text/plain": [
       "<IPython.core.display.Math object>"
      ]
     },
     "metadata": {},
     "output_type": "display_data"
    },
    {
     "data": {
      "text/latex": [
       "$\\displaystyle p(x) = - 4 x^{3} + 3 x - 8,\\quad q(x) = x^{2} - 16$"
      ],
      "text/plain": [
       "<IPython.core.display.Math object>"
      ]
     },
     "metadata": {},
     "output_type": "display_data"
    },
    {
     "data": {
      "text/latex": [
       "$\\displaystyle quo(x) = - 4 x,\\,rest(x) = - 61 x - 8$"
      ],
      "text/plain": [
       "<IPython.core.display.Math object>"
      ]
     },
     "metadata": {},
     "output_type": "display_data"
    },
    {
     "data": {
      "text/latex": [
       "$\\displaystyle p(x) = - 5 x^{4} + 6 x^{2} - 2,\\quad q(x) = - 5 x - 6$"
      ],
      "text/plain": [
       "<IPython.core.display.Math object>"
      ]
     },
     "metadata": {},
     "output_type": "display_data"
    },
    {
     "data": {
      "text/latex": [
       "$\\displaystyle quo(x) = x^{3} - \\frac{6 x^{2}}{5} + \\frac{6 x}{25} - \\frac{36}{125},\\,rest(x) = - \\frac{466}{125}$"
      ],
      "text/plain": [
       "<IPython.core.display.Math object>"
      ]
     },
     "metadata": {},
     "output_type": "display_data"
    },
    {
     "data": {
      "text/latex": [
       "$\\displaystyle p(x) = - x^{4} + 9 x^{3} + 9 x,\\quad q(x) = 5 x^{3} + 2 x^{2} + 4$"
      ],
      "text/plain": [
       "<IPython.core.display.Math object>"
      ]
     },
     "metadata": {},
     "output_type": "display_data"
    },
    {
     "data": {
      "text/latex": [
       "$\\displaystyle quo(x) = \\frac{47}{25} - \\frac{x}{5},\\,rest(x) = - \\frac{94 x^{2}}{25} + \\frac{49 x}{5} - \\frac{188}{25}$"
      ],
      "text/plain": [
       "<IPython.core.display.Math object>"
      ]
     },
     "metadata": {},
     "output_type": "display_data"
    }
   ],
   "source": [
    "Q3()"
   ]
  },
  {
   "attachments": {},
   "cell_type": "markdown",
   "metadata": {},
   "source": [
    "## 4\n",
    "\n",
    "<span style=\"color:blue\"> Determine os valores de <i>a</i> e <i>b</i> de modo que os polinômios <i>f</i> e <i>g</i> sejam divisíveis </span>"
   ]
  },
  {
   "cell_type": "code",
   "execution_count": 19,
   "metadata": {},
   "outputs": [
    {
     "data": {
      "text/latex": [
       "$\\displaystyle f(x) = a x^{2} - 2 x + 4,\\quad g(x) = x - 3$"
      ],
      "text/plain": [
       "<IPython.core.display.Math object>"
      ]
     },
     "metadata": {},
     "output_type": "display_data"
    },
    {
     "data": {
      "text/latex": [
       "$\\displaystyle a = 2/9=0.22$"
      ],
      "text/plain": [
       "<IPython.core.display.Math object>"
      ]
     },
     "metadata": {},
     "output_type": "display_data"
    },
    {
     "data": {
      "text/latex": [
       "$\\displaystyle f(x) = a x^{3} - 9 x - 6,\\quad g(x) = 3 - 9 x$"
      ],
      "text/plain": [
       "<IPython.core.display.Math object>"
      ]
     },
     "metadata": {},
     "output_type": "display_data"
    },
    {
     "data": {
      "text/latex": [
       "$\\displaystyle a = 243=2.4E+2$"
      ],
      "text/plain": [
       "<IPython.core.display.Math object>"
      ]
     },
     "metadata": {},
     "output_type": "display_data"
    },
    {
     "data": {
      "text/latex": [
       "$\\displaystyle f(x) = a x + b + x^{3} - 8 x^{2},\\quad g(x) = 6 x^{2} - 4 x + 2$"
      ],
      "text/plain": [
       "<IPython.core.display.Math object>"
      ]
     },
     "metadata": {},
     "output_type": "display_data"
    },
    {
     "data": {
      "text/latex": [
       "$\\displaystyle a = 47/9=5.2; \\quad b = -22/9=-2.4$"
      ],
      "text/plain": [
       "<IPython.core.display.Math object>"
      ]
     },
     "metadata": {},
     "output_type": "display_data"
    },
    {
     "data": {
      "text/latex": [
       "$\\displaystyle f(x) = a x^{4} + b x^{2} + 1,\\quad g(x) = \\left(x - 4\\right)^{2}$"
      ],
      "text/plain": [
       "<IPython.core.display.Math object>"
      ]
     },
     "metadata": {},
     "output_type": "display_data"
    },
    {
     "data": {
      "text/latex": [
       "$\\displaystyle a = 1/256=0.0039; \\quad b = -1/8=-0.13$"
      ],
      "text/plain": [
       "<IPython.core.display.Math object>"
      ]
     },
     "metadata": {},
     "output_type": "display_data"
    }
   ],
   "source": [
    "Q4()"
   ]
  }
 ],
 "metadata": {
  "kernelspec": {
   "display_name": "Python 3",
   "language": "python",
   "name": "python3"
  },
  "language_info": {
   "codemirror_mode": {
    "name": "ipython",
    "version": 3
   },
   "file_extension": ".py",
   "mimetype": "text/x-python",
   "name": "python",
   "nbconvert_exporter": "python",
   "pygments_lexer": "ipython3",
   "version": "3.11.1"
  },
  "orig_nbformat": 4
 },
 "nbformat": 4,
 "nbformat_minor": 2
}

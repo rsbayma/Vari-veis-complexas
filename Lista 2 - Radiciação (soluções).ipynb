{
 "cells": [
  {
   "attachments": {},
   "cell_type": "markdown",
   "metadata": {},
   "source": [
    "## Lista 2 de variáveis complexas"
   ]
  },
  {
   "attachments": {},
   "cell_type": "markdown",
   "metadata": {},
   "source": [
    "<span style=\"color:blue\"> Entre com a data e seu número de matrícula abaixo. **Não tire as aspas!\"** </span>"
   ]
  },
  {
   "cell_type": "code",
   "execution_count": 35,
   "metadata": {},
   "outputs": [],
   "source": [
    "mat = '202233940017'\n",
    "dia = '06'\n",
    "mes = '06'"
   ]
  },
  {
   "cell_type": "code",
   "execution_count": 36,
   "metadata": {},
   "outputs": [],
   "source": [
    "from IPython.display import display, Math\n",
    "from sympy import I, sqrt, symbols, latex, Eq, fraction, pi, exp,arg, Matrix, solve\n",
    "from numpy.random import RandomState, randint\n",
    "from numpy import arange, angle\n",
    "from sympy import Abs, arg, I\n",
    "\n",
    "rad = pi/180\n",
    "grau = 180/pi\n",
    "def fase(ang):\n",
    "    return exp(1j*ang*rad)\n",
    "\n",
    "def polar(z):\n",
    "    return latex(Abs(z).evalf(3)) + \\\n",
    "                 r'\\,\\phase{' + latex((arg(z)*grau).evalf(3)) + r'}^{\\circ}'\n",
    "    \n",
    "def resp(z):\n",
    "    display(Math(latex(round(z,4))))\n",
    "\n",
    "\n",
    "_nn = int(mat[0:4]+mat[-2:]+dia+mes)\n",
    "_rng = RandomState(_nn)\n",
    "s, z = symbols(['s', 'z'])\n",
    "_dig = arange(-9,10)\n",
    "_dig = _dig[_dig!=0]\n",
    "_n = randint(0,_dig.size,20)\n",
    "min = -20\n",
    "max = 20\n",
    "\n",
    "aa = arange(-20,21)\n",
    "aa = aa[aa!=0]\n",
    "bb = arange(-20,21)\n",
    "bb = bb[bb!=0]\n",
    "A = [(a+I*b)**n for a,b,n in zip(_rng.choice(aa,size=5),\n",
    "                                 _rng.choice(bb,size=5),\n",
    "                                 _rng.randint(3,10,size=5))]\n",
    "\n",
    "aa = [_rng.choice(_dig), I*_rng.choice(_dig)] + \\\n",
    "    list(_rng.randint(min,max,3) + I* _rng.randint(min,max,3))\n",
    "bb = [0, 0] + list(_rng.randint(min,max,3) + I* _rng.randint(min,max,3))\n",
    "cc = [_rng.choice(_dig)] + list(_rng.randint(min,max,4) +\n",
    "                                 I* _rng.randint(min,max,4))\n",
    "nn = [2,2,3,4,5]\n",
    "E = [ Eq((a*s+b)**n+c,0) for a,b,c,n in zip(aa,bb,cc,nn)]\n",
    "S2 = []\n",
    "S2_str =[]\n",
    "for a,b,c,n in zip(aa,bb,cc,nn):\n",
    "    sol = solve(s**n+c)\n",
    "    sol = Matrix([((x-b)/a).evalf(2) for x in sol])\n",
    "    str = r'\\left[\\begin{array}{c}'\n",
    "    for x in sol:\n",
    "        str += polar(x) + r'\\\\'\n",
    "    str += r'\\end{array}\\right]'\n",
    "    S2.append(sol)\n",
    "    S2_str.append(str)\n",
    "\n",
    "lados = [3,4,5,6]\n",
    "z1 = _rng.randint(-100,100,size=(5,)) + \\\n",
    "    I * _rng.randint(-100,100,size=(5,))\n",
    "C = [f'{l}' + r'\\text{ lados; um vértice é: } z_1 = ' + latex(z) for l,z in zip(lados, z1)]\n",
    "S3 = []\n",
    "S3_str = []\n",
    "for l,z in zip(lados, z1):\n",
    "    sol = solve(s**l - z**l)\n",
    "    sol = Matrix([x.evalf(4) for x in sol])\n",
    "    str = r'\\left[\\begin{array}{c}'\n",
    "    for x in sol:\n",
    "        str += polar(x) + r'\\\\'\n",
    "    str += r'\\end{array}\\right]'\n",
    "    S3.append(sol)\n",
    "    S3_str.append(str)\n",
    "\n",
    "\n",
    "aa = arange(-20,21)\n",
    "aa = aa[aa!=0]\n",
    "aa = _rng.choice(aa,3)\n",
    "bb = I*_rng.randint(-20,21,3)\n",
    "cc = _rng.randint(-20,21,3) + I * _rng.randint(-20,21,3)\n",
    "D = [Eq(a*s**4 + b*s**2 + c, 0) for a,b,c in zip(aa,bb,cc)]\n",
    "S4 = []\n",
    "S4_str = []\n",
    "for d in D:\n",
    "    sol = solve(d)\n",
    "    sol = Matrix([x.evalf(2) for x in sol])\n",
    "    str = r'\\left[\\begin{array}{c}'\n",
    "    for x in sol:\n",
    "        str += polar(x) + r'\\\\'\n",
    "    str += r'\\end{array}\\right]'\n",
    "    S4.append(sol)\n",
    "    S4_str.append(str)\n",
    "\n",
    "def Q1():\n",
    "    for n in range(len(A)):\n",
    "        display(Math(latex(A[n]) + '=' +\n",
    "                     latex((A[n].expand())) + '=' +\n",
    "                     polar(A[n]) ))\n",
    "\n",
    "def Q2():\n",
    "    for n in range(len(E)): \n",
    "        display(Math(latex(E[n]) + r'\\quad;\\quad' + \n",
    "                     latex(S2[n]) + '= ' + S2_str[n]))\n",
    "\n",
    "def Q3():    \n",
    "    for n in range(len(C)): \n",
    "        display(Math(C[n]))\n",
    "        display(Math(latex(S3[n]) + '=' + S3_str[n]))\n",
    "\n",
    "def Q4():    \n",
    "    for n in range(len(D)): \n",
    "        display(D[n])\n",
    "        display(Math(latex(S4[n]) + '=' + S4_str[n]))\n",
    "\n"
   ]
  },
  {
   "cell_type": "code",
   "execution_count": 37,
   "metadata": {},
   "outputs": [
    {
     "data": {
      "text/plain": [
       "161"
      ]
     },
     "execution_count": 37,
     "metadata": {},
     "output_type": "execute_result"
    }
   ],
   "source": [
    "521%360"
   ]
  },
  {
   "attachments": {},
   "cell_type": "markdown",
   "metadata": {},
   "source": [
    "**Orientações - Leia com atenção!**\n",
    "1. Execute o notebook inteiro com os seus dados para gerar os dados das questões. Você pode utilizar o [Colab](https://colab.research.google.com/), [Jupyter](https://jupyter.org/) ou qualquer outro editor de notebooks. \n",
    "2. Resolva todas as questões, registrando os principais passos da solução\n",
    "3. Em cada questão escolha **um e apenas um** item e introduza intencionalmente um erro na sua solução.\n",
    "4. Faça um manuscrito de apresentação das suas soluções, tanto os itens corretos quanto aqueles onde você introduziu o erro intencional. Não esqueça de anotar no manuscrito o seu nome, sua matrícula e a data que você usou para gerar as questões.\n",
    "5. Apresente as questões no manuscrito na **ordem correta** e deixe clara a **resposta final**. Quando necessário, use apenas 2 casas decimais. \n",
    "6. Escolha um colega para trocar manuscritos: você corrigirá as questões dele e ele as suas. \n",
    "7. Ao corrigir, observe apenas a resposta final, indicando apenas se está correta ou não. Caso não esteja, **circule o passo da resolução que justifica o erro**. \n",
    "8. Ao corrigir o trabalho, identifique-se no manuscrito do seu colega escrevendo: \"Corrigido por:\" e adicionando seu nome.\n",
    "9. Ao final, calcule a nota do seu colega como (arredondar na primeira casa decimal):\n",
    "$$\n",
    "\\text{Nota} = 10 \\times \\frac{\\text{Total de itens certos}}{13}\n",
    "$$\n",
    "10. Ao terminar as correções, devolva ao seu colega o manuscrito e recupere o seu. \n",
    "11. Entregar até dia 07/06 pelo SIGAA como arquivo PDF (você pode scanear caso necessário, apenas certifique-se que está tudo legível). \n",
    "\n"
   ]
  },
  {
   "attachments": {},
   "cell_type": "markdown",
   "metadata": {},
   "source": [
    "## 1"
   ]
  },
  {
   "attachments": {},
   "cell_type": "markdown",
   "metadata": {},
   "source": [
    "<span style=\"color:blue\"> Calcule as potências. Apresente o resultado nas formas retangular e fasorial. </style>"
   ]
  },
  {
   "cell_type": "code",
   "execution_count": 38,
   "metadata": {},
   "outputs": [
    {
     "data": {
      "text/latex": [
       "$\\displaystyle \\left(-15 + i\\right)^{5}=-725700 + 250876 i=7.68 \\cdot 10^{5}\\,\\phase{161.0}^{\\circ}$"
      ],
      "text/plain": [
       "<IPython.core.display.Math object>"
      ]
     },
     "metadata": {},
     "output_type": "display_data"
    },
    {
     "data": {
      "text/latex": [
       "$\\displaystyle \\left(18 + 4 i\\right)^{9}=-95325507072 + 227222447104 i=2.46 \\cdot 10^{11}\\,\\phase{113.0}^{\\circ}$"
      ],
      "text/plain": [
       "<IPython.core.display.Math object>"
      ]
     },
     "metadata": {},
     "output_type": "display_data"
    },
    {
     "data": {
      "text/latex": [
       "$\\displaystyle \\left(7 + 7 i\\right)^{8}=92236816=9.22 \\cdot 10^{7}\\,\\phase{0}^{\\circ}$"
      ],
      "text/plain": [
       "<IPython.core.display.Math object>"
      ]
     },
     "metadata": {},
     "output_type": "display_data"
    },
    {
     "data": {
      "text/latex": [
       "$\\displaystyle \\left(-1 + 14 i\\right)^{8}=1267645681 + 813343440 i=1.51 \\cdot 10^{9}\\,\\phase{32.7}^{\\circ}$"
      ],
      "text/plain": [
       "<IPython.core.display.Math object>"
      ]
     },
     "metadata": {},
     "output_type": "display_data"
    },
    {
     "data": {
      "text/latex": [
       "$\\displaystyle \\left(-3 + 3 i\\right)^{9}=-314928 + 314928 i=4.45 \\cdot 10^{5}\\,\\phase{135.0}^{\\circ}$"
      ],
      "text/plain": [
       "<IPython.core.display.Math object>"
      ]
     },
     "metadata": {},
     "output_type": "display_data"
    }
   ],
   "source": [
    "Q1()"
   ]
  },
  {
   "cell_type": "code",
   "execution_count": 39,
   "metadata": {},
   "outputs": [
    {
     "data": {
      "text/plain": [
       "6229182.029392814"
      ]
     },
     "execution_count": 39,
     "metadata": {},
     "output_type": "execute_result"
    }
   ],
   "source": [
    "from numpy import sqrt, exp,angle\n",
    "22.85**5"
   ]
  },
  {
   "attachments": {},
   "cell_type": "markdown",
   "metadata": {},
   "source": [
    "## 2"
   ]
  },
  {
   "attachments": {},
   "cell_type": "markdown",
   "metadata": {},
   "source": [
    "<span style=\"color:blue\"> Resolva as seguintes equações utilizando radiciação complexa. Desenhe o resultado na forma de um polígono </span>"
   ]
  },
  {
   "cell_type": "code",
   "execution_count": 40,
   "metadata": {},
   "outputs": [
    {
     "data": {
      "text/latex": [
       "$\\displaystyle 36 s^{2} - 9 = 0\\quad;\\quad\\left[\\begin{matrix}0.5\\\\-0.5\\end{matrix}\\right]= \\left[\\begin{array}{c}0.5\\,\\phase{0}^{\\circ}\\\\0.5\\,\\phase{180.0}^{\\circ}\\\\\\end{array}\\right]$"
      ],
      "text/plain": [
       "<IPython.core.display.Math object>"
      ]
     },
     "metadata": {},
     "output_type": "display_data"
    },
    {
     "data": {
      "text/latex": [
       "$\\displaystyle - 4 s^{2} - 20 i = 0\\quad;\\quad\\left[\\begin{matrix}1.6 - 1.6 i\\\\-1.6 + 1.6 i\\end{matrix}\\right]= \\left[\\begin{array}{c}2.24\\,\\phase{-45.0}^{\\circ}\\\\2.24\\,\\phase{135.0}^{\\circ}\\\\\\end{array}\\right]$"
      ],
      "text/plain": [
       "<IPython.core.display.Math object>"
      ]
     },
     "metadata": {},
     "output_type": "display_data"
    },
    {
     "data": {
      "text/latex": [
       "$\\displaystyle \\left(s \\left(1 - 3 i\\right) + 1 + 13 i\\right)^{3} - 7 - 7 i = 0\\quad;\\quad\\left[\\begin{matrix}3.2 - 1.9 i\\\\3.8 - 0.92 i\\\\4.4 - 2.0 i\\end{matrix}\\right]= \\left[\\begin{array}{c}3.71\\,\\phase{-30.8}^{\\circ}\\\\3.95\\,\\phase{-13.5}^{\\circ}\\\\4.79\\,\\phase{-24.4}^{\\circ}\\\\\\end{array}\\right]$"
      ],
      "text/plain": [
       "<IPython.core.display.Math object>"
      ]
     },
     "metadata": {},
     "output_type": "display_data"
    },
    {
     "data": {
      "text/latex": [
       "$\\displaystyle \\left(s \\left(-7 - 13 i\\right) - 7 - 5 i\\right)^{4} + 10 - 5 i = 0\\quad;\\quad\\left[\\begin{matrix}-0.57 + 0.14 i\\\\-0.47 + 0.37 i\\\\-0.41 + 0.21 i\\\\-0.64 + 0.31 i\\end{matrix}\\right]= \\left[\\begin{array}{c}0.59\\,\\phase{166.0}^{\\circ}\\\\0.602\\,\\phase{142.0}^{\\circ}\\\\0.459\\,\\phase{153.0}^{\\circ}\\\\0.706\\,\\phase{154.0}^{\\circ}\\\\\\end{array}\\right]$"
      ],
      "text/plain": [
       "<IPython.core.display.Math object>"
      ]
     },
     "metadata": {},
     "output_type": "display_data"
    },
    {
     "data": {
      "text/latex": [
       "$\\displaystyle \\left(s \\left(12 + 6 i\\right) - 1 - i\\right)^{5} + 13 - 4 i = 0\\quad;\\quad\\left[\\begin{matrix}0.22 + 0.047 i\\\\0.15 - 0.081 i\\\\0.13 + 0.16 i\\\\0.0067 - 0.051 i\\\\-0.0088 + 0.096 i\\end{matrix}\\right]= \\left[\\begin{array}{c}0.229\\,\\phase{11.7}^{\\circ}\\\\0.172\\,\\phase{-28.3}^{\\circ}\\\\0.201\\,\\phase{51.2}^{\\circ}\\\\0.0511\\,\\phase{-82.4}^{\\circ}\\\\0.0964\\,\\phase{95.3}^{\\circ}\\\\\\end{array}\\right]$"
      ],
      "text/plain": [
       "<IPython.core.display.Math object>"
      ]
     },
     "metadata": {},
     "output_type": "display_data"
    }
   ],
   "source": [
    "Q2()"
   ]
  },
  {
   "attachments": {},
   "cell_type": "markdown",
   "metadata": {},
   "source": [
    "## 3"
   ]
  },
  {
   "attachments": {},
   "cell_type": "markdown",
   "metadata": {},
   "source": [
    "\n",
    "<span style=\"color:blue\"> Determine todos os vértices de cada um dos polígonos a seguir: </span>"
   ]
  },
  {
   "cell_type": "code",
   "execution_count": 41,
   "metadata": {},
   "outputs": [
    {
     "data": {
      "text/latex": [
       "$\\displaystyle 3\\text{ lados; um vértice é: } z_1 = 66 + 38 i$"
      ],
      "text/plain": [
       "<IPython.core.display.Math object>"
      ]
     },
     "metadata": {},
     "output_type": "display_data"
    },
    {
     "data": {
      "text/latex": [
       "$\\displaystyle \\left[\\begin{matrix}66.0 + 38.0 i\\\\-65.91 + 38.16 i\\\\-0.09103 - 76.16 i\\end{matrix}\\right]=\\left[\\begin{array}{c}76.2\\,\\phase{29.9}^{\\circ}\\\\76.2\\,\\phase{150.0}^{\\circ}\\\\76.2\\,\\phase{-90.1}^{\\circ}\\\\\\end{array}\\right]$"
      ],
      "text/plain": [
       "<IPython.core.display.Math object>"
      ]
     },
     "metadata": {},
     "output_type": "display_data"
    },
    {
     "data": {
      "text/latex": [
       "$\\displaystyle 4\\text{ lados; um vértice é: } z_1 = 26 - 30 i$"
      ],
      "text/plain": [
       "<IPython.core.display.Math object>"
      ]
     },
     "metadata": {},
     "output_type": "display_data"
    },
    {
     "data": {
      "text/latex": [
       "$\\displaystyle \\left[\\begin{matrix}-26.0 + 30.0 i\\\\26.0 - 30.0 i\\\\-30.0 - 26.0 i\\\\30.0 + 26.0 i\\end{matrix}\\right]=\\left[\\begin{array}{c}39.7\\,\\phase{131.0}^{\\circ}\\\\39.7\\,\\phase{-49.1}^{\\circ}\\\\39.7\\,\\phase{-139.0}^{\\circ}\\\\39.7\\,\\phase{40.9}^{\\circ}\\\\\\end{array}\\right]$"
      ],
      "text/plain": [
       "<IPython.core.display.Math object>"
      ]
     },
     "metadata": {},
     "output_type": "display_data"
    },
    {
     "data": {
      "text/latex": [
       "$\\displaystyle 5\\text{ lados; um vértice é: } z_1 = -88 + 55 i$"
      ],
      "text/plain": [
       "<IPython.core.display.Math object>"
      ]
     },
     "metadata": {},
     "output_type": "display_data"
    },
    {
     "data": {
      "text/latex": [
       "$\\displaystyle \\left[\\begin{matrix}103.5 + 7.229 i\\\\-88.0 + 55.0 i\\\\-79.5 - 66.7 i\\\\25.11 + 100.7 i\\\\38.87 - 96.22 i\\end{matrix}\\right]=\\left[\\begin{array}{c}104.0\\,\\phase{3.99}^{\\circ}\\\\104.0\\,\\phase{148.0}^{\\circ}\\\\104.0\\,\\phase{-140.0}^{\\circ}\\\\104.0\\,\\phase{76.0}^{\\circ}\\\\104.0\\,\\phase{-68.0}^{\\circ}\\\\\\end{array}\\right]$"
      ],
      "text/plain": [
       "<IPython.core.display.Math object>"
      ]
     },
     "metadata": {},
     "output_type": "display_data"
    },
    {
     "data": {
      "text/latex": [
       "$\\displaystyle 6\\text{ lados; um vértice é: } z_1 = 89 + 70 i$"
      ],
      "text/plain": [
       "<IPython.core.display.Math object>"
      ]
     },
     "metadata": {},
     "output_type": "display_data"
    },
    {
     "data": {
      "text/latex": [
       "$\\displaystyle \\left[\\begin{matrix}-105.1 + 42.08 i\\\\105.1 - 42.08 i\\\\-89.0 - 70.0 i\\\\-16.12 + 112.1 i\\\\16.12 - 112.1 i\\\\89.0 + 70.0 i\\end{matrix}\\right]=\\left[\\begin{array}{c}113.0\\,\\phase{158.0}^{\\circ}\\\\113.0\\,\\phase{-21.8}^{\\circ}\\\\113.0\\,\\phase{-142.0}^{\\circ}\\\\113.0\\,\\phase{98.2}^{\\circ}\\\\113.0\\,\\phase{-81.8}^{\\circ}\\\\113.0\\,\\phase{38.2}^{\\circ}\\\\\\end{array}\\right]$"
      ],
      "text/plain": [
       "<IPython.core.display.Math object>"
      ]
     },
     "metadata": {},
     "output_type": "display_data"
    }
   ],
   "source": [
    "Q3()"
   ]
  },
  {
   "attachments": {},
   "cell_type": "markdown",
   "metadata": {},
   "source": [
    "## 4\n",
    "\n",
    "<span style=\"color:blue\"> Resolva as equações biquadradas a seguir: </span>"
   ]
  },
  {
   "cell_type": "code",
   "execution_count": 42,
   "metadata": {},
   "outputs": [
    {
     "data": {
      "text/latex": [
       "$\\displaystyle - 10 s^{4} + 17 i s^{2} - 3 + 18 i = 0$"
      ],
      "text/plain": [
       "Eq(-10*s**4 + 17*I*s**2 - 3 + 18*I, 0)"
      ]
     },
     "metadata": {},
     "output_type": "display_data"
    },
    {
     "data": {
      "text/latex": [
       "$\\displaystyle \\left[\\begin{matrix}-1.2 - 0.86 i\\\\1.2 + 0.86 i\\\\-0.22 + 0.88 i\\\\0.22 - 0.88 i\\end{matrix}\\right]=\\left[\\begin{array}{c}1.49\\,\\phase{-145.0}^{\\circ}\\\\1.49\\,\\phase{35.5}^{\\circ}\\\\0.908\\,\\phase{104.0}^{\\circ}\\\\0.908\\,\\phase{-75.8}^{\\circ}\\\\\\end{array}\\right]$"
      ],
      "text/plain": [
       "<IPython.core.display.Math object>"
      ]
     },
     "metadata": {},
     "output_type": "display_data"
    },
    {
     "data": {
      "text/latex": [
       "$\\displaystyle 16 s^{4} + 12 i s^{2} - 20 + 14 i = 0$"
      ],
      "text/plain": [
       "Eq(16*s**4 + 12*I*s**2 - 20 + 14*I, 0)"
      ]
     },
     "metadata": {},
     "output_type": "display_data"
    },
    {
     "data": {
      "text/latex": [
       "$\\displaystyle \\left[\\begin{matrix}-0.0069 - 1.1 i\\\\0.007 + 1.1 i\\\\-1.1 + 0.34 i\\\\1.1 - 0.34 i\\end{matrix}\\right]=\\left[\\begin{array}{c}1.06\\,\\phase{-90.4}^{\\circ}\\\\1.06\\,\\phase{89.6}^{\\circ}\\\\1.17\\,\\phase{163.0}^{\\circ}\\\\1.17\\,\\phase{-17.1}^{\\circ}\\\\\\end{array}\\right]$"
      ],
      "text/plain": [
       "<IPython.core.display.Math object>"
      ]
     },
     "metadata": {},
     "output_type": "display_data"
    },
    {
     "data": {
      "text/latex": [
       "$\\displaystyle 9 s^{4} + 5 i s^{2} - 2 - i = 0$"
      ],
      "text/plain": [
       "Eq(9*s**4 + 5*I*s**2 - 2 - I, 0)"
      ]
     },
     "metadata": {},
     "output_type": "display_data"
    },
    {
     "data": {
      "text/latex": [
       "$\\displaystyle \\left[\\begin{matrix}-0.3 + 0.7 i\\\\0.3 - 0.7 i\\\\-0.65 + 0.11 i\\\\0.65 - 0.11 i\\end{matrix}\\right]=\\left[\\begin{array}{c}0.761\\,\\phase{113.0}^{\\circ}\\\\0.761\\,\\phase{-67.2}^{\\circ}\\\\0.654\\,\\phase{170.0}^{\\circ}\\\\0.654\\,\\phase{-9.58}^{\\circ}\\\\\\end{array}\\right]$"
      ],
      "text/plain": [
       "<IPython.core.display.Math object>"
      ]
     },
     "metadata": {},
     "output_type": "display_data"
    }
   ],
   "source": [
    "Q4()"
   ]
  }
 ],
 "metadata": {
  "kernelspec": {
   "display_name": "Python 3",
   "language": "python",
   "name": "python3"
  },
  "language_info": {
   "codemirror_mode": {
    "name": "ipython",
    "version": 3
   },
   "file_extension": ".py",
   "mimetype": "text/x-python",
   "name": "python",
   "nbconvert_exporter": "python",
   "pygments_lexer": "ipython3",
   "version": "3.11.1"
  },
  "orig_nbformat": 4
 },
 "nbformat": 4,
 "nbformat_minor": 2
}
